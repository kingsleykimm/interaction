{
 "cells": [
  {
   "cell_type": "code",
   "execution_count": 1,
   "metadata": {},
   "outputs": [],
   "source": [
    "import pickle\n",
    "import os"
   ]
  },
  {
   "cell_type": "code",
   "execution_count": 8,
   "metadata": {},
   "outputs": [
    {
     "name": "stdout",
     "output_type": "stream",
     "text": [
      "{'target_002_master_chef_can_:0000_iteration_5_gesture_True_2025-01-09_16:16:51_seed_10.pkl': [{'linear_vel': Vector(0, 0, 0), 'angular_vel': Vector(0, 10, 0)}, {'linear_vel': Vector(0, 0, 0), 'angular_vel': Vector(0, 10, 0)}, {'linear_vel': Vector(0, 0, 0), 'angular_vel': Vector(0, 10, 0)}, {'linear_vel': Vector(0, 0, 0), 'angular_vel': Vector(0, 10, 0)}, {'linear_vel': Vector(0, 0, 0), 'angular_vel': Vector(0, 10, 0)}, {'linear_vel': Vector(0, 0, 0), 'angular_vel': Vector(0, 10, 0)}, {'linear_vel': Vector(0, 0, 0), 'angular_vel': Vector(0, 10, 0)}, {'linear_vel': Vector(0, 0, 0), 'angular_vel': Vector(0, 10, 0)}, {'linear_vel': Vector(0, 0, 0), 'angular_vel': Vector(0, 10, 0)}, {'linear_vel': Vector(0, 0, 0), 'angular_vel': Vector(0, 10, 0)}, {'linear_vel': Vector(0, 0, 0), 'angular_vel': Vector(0, 10, 0)}, {'linear_vel': Vector(0, 0, 0), 'angular_vel': Vector(0, 10, 0)}, {'linear_vel': Vector(0, 0, 0), 'angular_vel': Vector(0, 10, 0)}, {'linear_vel': Vector(0, 0, 0), 'angular_vel': Vector(0, 10, 0)}, {'linear_vel': Vector(0, 0, 0), 'angular_vel': Vector(0, 10, 0)}], 'target_002_master_chef_can_:0000_iteration_23_gesture_True_2025-01-09_16:16:51_seed_10.pkl': [{'linear_vel': Vector(10, 0, 0), 'angular_vel': Vector(0, 0, 0)}, {'linear_vel': Vector(10, 0, 0), 'angular_vel': Vector(0, 0, 0)}, {'linear_vel': Vector(10, 0, 0), 'angular_vel': Vector(0, 0, 0)}, {'linear_vel': Vector(10, 0, 0), 'angular_vel': Vector(0, 0, 0)}, {'linear_vel': Vector(10, 0, 0), 'angular_vel': Vector(0, 0, 0)}, {'linear_vel': Vector(10, 0, 0), 'angular_vel': Vector(0, 0, 0)}, {'linear_vel': Vector(10, 0, 0), 'angular_vel': Vector(0, 0, 0)}, {'linear_vel': Vector(10, 0, 0), 'angular_vel': Vector(0, 0, 0)}, {'linear_vel': Vector(10, 0, 0), 'angular_vel': Vector(0, 0, 0)}, {'linear_vel': Vector(10, 0, 0), 'angular_vel': Vector(0, 0, 0)}, {'linear_vel': Vector(10, 0, 0), 'angular_vel': Vector(0, 0, 0)}, {'linear_vel': Vector(10, 0, 0), 'angular_vel': Vector(0, 0, 0)}, {'linear_vel': Vector(10, 0, 0), 'angular_vel': Vector(0, 0, 0)}, {'linear_vel': Vector(10, 0, 0), 'angular_vel': Vector(0, 0, 0)}, {'linear_vel': Vector(10, 0, 0), 'angular_vel': Vector(0, 0, 0)}]}\n"
     ]
    }
   ],
   "source": [
    "infos = {}\n",
    "for file in os.listdir(os.getcwd()):\n",
    "    if '.pkl' in file:\n",
    "        with open(file, 'rb') as f:\n",
    "            info = pickle.load(f)\n",
    "            infos[file] = info\n",
    "\n",
    "print(infos)  "
   ]
  }
 ],
 "metadata": {
  "kernelspec": {
   "display_name": "habitat",
   "language": "python",
   "name": "python3"
  },
  "language_info": {
   "codemirror_mode": {
    "name": "ipython",
    "version": 3
   },
   "file_extension": ".py",
   "mimetype": "text/x-python",
   "name": "python",
   "nbconvert_exporter": "python",
   "pygments_lexer": "ipython3",
   "version": "3.9.19"
  }
 },
 "nbformat": 4,
 "nbformat_minor": 2
}
